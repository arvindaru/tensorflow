Detecting COVID-19 with Chest X Ray using PyTorch

Image classification of Chest X Rays in one of three classes: Normal, Viral Pneumonia, COVID-19

Notebook created for the guided project Detecting COVID-19 with Chest X Ray using PyTorch on Coursera

Dataset from COVID-19 Radiography Dataset on Kaggle
Importing Libraries

%matplotlib inline

\u200b

import os

import shutil

import random

import torch

import torchvision

import numpy as np

\u200b

from PIL import Image

from matplotlib import pyplot as plt

\u200b

torch.manual_seed(0)

\u200b

print('Using PyTorch version', torch.__version__)

Using PyTorch version 1.5.1

Preparing Training and Test Sets

class_names = ['normal', 'viral', 'covid']

root_dir = 'COVID-19 Radiography Database'

source_dirs = ['NORMAL', 'Viral Pneumonia', 'COVID-19']

\u200b

if os.path.isdir(os.path.join(root_dir, source_dirs[1])):

    os.mkdir(os.path.join(root_dir, 'test'))

\u200b

    for i, d in enumerate(source_dirs):

        os.rename(os.path.join(root_dir, d), os.path.join(root_dir, class_names[i]))

\u200b

    for c in class_names:

        os.mkdir(os.path.join(root_dir, 'test', c))

\u200b

    for c in class_names:

        images = [x for x in os.listdir(os.path.join(root_dir, c)) if x.lower().endswith('png')]

        selected_images = random.sample(images, 30)

        for image in selected_images:

            source_path = os.path.join(root_dir, c, image)

            target_path = os.path.join(root_dir, 'test', c, image)

            shutil.move(source_path, target_path)

Creating Custom Dataset

\u200b

class ChestXRayDataset(torch.utils.data.Dataset):

    def __init__(self, image_dirs, transform):

        def get_images(class_name):

            images = [x for x in os.listdir(image_dirs[class_name]) if x[-3:].lower().endswith('png')]

            print(f'Found {len(images)} {class_name} examples')

            return images

        

        self.images = {}

        self.class_names = ['normal', 'viral', 'covid']

        

        for class_name in self.class_names:

            self.images[class_name] = get_images(class_name)

            

        self.image_dirs = image_dirs

        self.transform = transform

        

    

    def __len__(self):

        return sum([len(self.images[class_name]) for class_name in self.class_names])

    

    

    def __getitem__(self, index):

        class_name = random.choice(self.class_names)

        index = index % len(self.images[class_name])

        image_name = self.images[class_name][index]

        image_path = os.path.join(self.image_dirs[class_name], image_name)

        image = Image.open(image_path).convert('RGB')

        return self.transform(image), self.class_names.index(class_name)

Image Transformations

\u200b

Prepare DataLoader

train_dirs = {

    'normal': 'COVID-19 Radiography Database/normal',

    'viral': 'COVID-19 Radiography Database/viral',

    'covid': 'COVID-19 Radiography Database/covid'

}
